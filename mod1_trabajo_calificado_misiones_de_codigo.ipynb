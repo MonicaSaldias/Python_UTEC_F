{
  "nbformat": 4,
  "nbformat_minor": 0,
  "metadata": {
    "colab": {
      "provenance": [],
      "include_colab_link": true
    },
    "kernelspec": {
      "name": "python3",
      "display_name": "Python 3"
    },
    "language_info": {
      "name": "python"
    }
  },
  "cells": [
    {
      "cell_type": "markdown",
      "metadata": {
        "id": "view-in-github",
        "colab_type": "text"
      },
      "source": [
        "<a href=\"https://colab.research.google.com/github/MonicaSaldias/Python_UTEC_F/blob/main/mod1_trabajo_calificado_misiones_de_codigo.ipynb\" target=\"_parent\"><img src=\"https://colab.research.google.com/assets/colab-badge.svg\" alt=\"Open In Colab\"/></a>"
      ]
    },
    {
      "cell_type": "markdown",
      "source": [
        "<img src=\"https://posgrado.utec.edu.pe/sites/default/files/2023-08/Testimonial-home-2.jpg\" alt=\"HTML5 Icon\" width=\"900\" height=\"250\" >\n"
      ],
      "metadata": {
        "id": "dYz-CyepUcRS"
      }
    },
    {
      "cell_type": "markdown",
      "source": [
        "# **Trabajo Calificado: Misiones de Código**"
      ],
      "metadata": {
        "id": "tYd6BiWgUfLo"
      }
    },
    {
      "cell_type": "markdown",
      "source": [
        "**Contexto:**\n",
        "\n",
        "Eres desarrollador de un Simulador de Aventuras llamado Pythonia, un entorno virtual de entrenamiento diseñado para mejorar tus habilidades de programación. En este simulador, enfrentarás una serie de desafíos basados en situaciones de videojuegos y escenarios de aventura, donde deberás aplicar estructuras lógicas, condicionales, bucles y funciones para resolver problemas.\n",
        "\n"
      ],
      "metadata": {
        "id": "GtjjVTFRU6W1"
      }
    },
    {
      "cell_type": "markdown",
      "source": [
        "Cada ejercicio representa un reto independiente que simula eventos comunes en el desarrollo de videojuegos, sistemas de simulación y lógica de juegos interactivos."
      ],
      "metadata": {
        "id": "Ggayz2SXVXjt"
      }
    },
    {
      "cell_type": "markdown",
      "source": [
        "**Recomendaciones:**\n",
        "\n",
        "Utilizar buenas prácticas: comentarios, entradas y salidas limpias.\n",
        "\n",
        "Uso de funciones donde sea necesario."
      ],
      "metadata": {
        "id": "eAL1_dscUjd_"
      }
    },
    {
      "cell_type": "markdown",
      "source": [
        "**Ejercicio 1: Elige tu personaje (Variables y Entrada/Salida)**\n",
        "\n",
        "Crea un programa que permita al jugador elegir su personaje entre Mago, Guerrero o Arquero. Según la elección, muestra un mensaje personalizado con las estadísticas iniciales (vida, poder, defensa)."
      ],
      "metadata": {
        "id": "YpxJc_PoVc4c"
      }
    },
    {
      "cell_type": "code",
      "source": [
        "## INICIO DE CÓDIGO\n",
        "personaje = input(\"Elige tu personaje (Mago, Guerrero, Arquero): \")\n",
        "if personaje == \"Mago\":\n",
        "    vida = 100\n",
        "    poder = 120\n",
        "    defensa = 50\n",
        "elif personaje == \"Guerrero\":\n",
        "    vida = 30\n",
        "    poder = 100\n",
        "    defensa = 80\n",
        "elif personaje == \"Arquero\":\n",
        "    vida = 35\n",
        "    poder = 110\n",
        "    defensa = 60\n",
        "else:\n",
        "    print(\"Personaje inválido\")\n",
        "\n",
        "print(f\"Has elegido al {personaje} con las siguientes estadísticas:\")\n",
        "print(f\"Vida: {vida}\")\n",
        "print(f\"Poder: {poder}\")\n",
        "print(f\"Defensa: {defensa}\")\n",
        "\n",
        "\n",
        "## FIN DE CÓDIGO"
      ],
      "metadata": {
        "id": "GZrzl-7wVfkW",
        "colab": {
          "base_uri": "https://localhost:8080/"
        },
        "outputId": "6c6c86df-d23a-4231-9350-7234864285ca"
      },
      "execution_count": 1,
      "outputs": [
        {
          "output_type": "stream",
          "name": "stdout",
          "text": [
            "Elige tu personaje (Mago, Guerrero, Arquero): Mago\n",
            "Has elegido al Mago con las siguientes estadísticas:\n",
            "Vida: 100\n",
            "Poder: 120\n",
            "Defensa: 50\n"
          ]
        }
      ]
    },
    {
      "cell_type": "markdown",
      "source": [
        "**Ejercicio 2: La prueba del sabio (Condicionales)**\n",
        "\n",
        "El sabio te hace una pregunta: si traes menos de 50 monedas de oro, te expulsará; si llevas entre 50 y 100, te permitirá pasar; si llevas más de 100, te dará una poción.\n",
        "Crea el programa que lea las monedas y muestre el resultado."
      ],
      "metadata": {
        "id": "kvoGwX-QVgPr"
      }
    },
    {
      "cell_type": "code",
      "execution_count": 2,
      "metadata": {
        "id": "3tg6KSK-UbUw",
        "colab": {
          "base_uri": "https://localhost:8080/"
        },
        "outputId": "7f5be70a-6be2-4728-9ec1-dd99d9f19acd"
      },
      "outputs": [
        {
          "output_type": "stream",
          "name": "stdout",
          "text": [
            "¿Cuántas monedas tienes? 80\n",
            "Puedes pasar\n"
          ]
        }
      ],
      "source": [
        "## INICIO DE CÓDIGO\n",
        "\n",
        "monedas = int(input(\"¿Cuántas monedas tienes? \"))\n",
        "if monedas < 50:\n",
        "    print(\"Expulsado\")\n",
        "elif monedas <= 100:\n",
        "    print(\"Puedes pasar\")\n",
        "elif monedas > 100:\n",
        "  print(\"Toma una poción\")\n",
        "else :\n",
        "  print(\"Vuelve a intentar\")\n",
        "\n",
        "## FIN DE CÓDIGO"
      ]
    },
    {
      "cell_type": "markdown",
      "source": [
        "**Ejercicio 3: El puente infinito (Bucles While)**\n",
        "\n",
        "Diseña un programa que simule el cruce de un puente que cambia su estructura aleatoriamente. El jugador debe adivinar si el siguiente paso será seguro ('s') o peligroso ('p').\n",
        "El juego termina si el jugador elige 'salir' o si falla 3 veces."
      ],
      "metadata": {
        "id": "g7B02fWhVj4M"
      }
    },
    {
      "cell_type": "code",
      "source": [
        "## INICIO DE CÓDIGO\n",
        "\n",
        "import random\n",
        "\n",
        "error = 0\n",
        "error_max = 3\n",
        "\n",
        "while error <= error_max :\n",
        "  puente = random.choice(['s','p'])\n",
        "  intento = input(\"¿El siguiente paso es seguro o peligroso? s/p\").lower().strip()\n",
        "\n",
        "  if intento == \"salir\" :\n",
        "   print(\"Game over\")\n",
        "   break\n",
        "  elif intento not in ['s','p'] :\n",
        "    print(\"no valido\")\n",
        "    continue\n",
        "\n",
        "  if intento==puente :\n",
        "    print(\"Continuas en el juego\")\n",
        "  else:\n",
        "    error += 1\n",
        "    print(\"intento fallido\")\n",
        "\n",
        "  if error >= error_max :\n",
        "    print(\"se acabo\")\n",
        "    break\n",
        "\n",
        "\n",
        "## FIN DE CÓDIGO"
      ],
      "metadata": {
        "id": "9DRMWhDBVn71",
        "colab": {
          "base_uri": "https://localhost:8080/"
        },
        "outputId": "449721aa-09aa-43ab-deb0-c0ebb2082125"
      },
      "execution_count": 38,
      "outputs": [
        {
          "output_type": "stream",
          "name": "stdout",
          "text": [
            "¿El siguiente paso es seguro o peligroso? s/pp\n",
            "Continuas en el juego\n",
            "¿El siguiente paso es seguro o peligroso? s/ps\n",
            "intento fallido\n",
            "¿El siguiente paso es seguro o peligroso? s/psalir\n",
            "Game over\n"
          ]
        }
      ]
    },
    {
      "cell_type": "markdown",
      "source": [
        "**Ejercicio 4: El laberinto secreto (Bucle For y Range)**\n",
        "\n",
        "Crea un programa que muestre una cuenta regresiva desde 10 hasta 1 al estilo nivel de escape del laberinto. Cada número debe ir acompañado de un mensaje tipo \"Quedan X segundos para escapar\"."
      ],
      "metadata": {
        "id": "66qKXQwTVoZG"
      }
    },
    {
      "cell_type": "code",
      "source": [
        "## INICIO DE CÓDIGO\n",
        "\n",
        "for i in range(10,0,-1):\n",
        "  print(f\"Quedan {i} segundos para escapar\")\n",
        "\n",
        "\n",
        "## FIN DE CÓDIGO"
      ],
      "metadata": {
        "id": "i1S9WPmhVsEj",
        "colab": {
          "base_uri": "https://localhost:8080/"
        },
        "outputId": "e6458e18-e87d-48e5-cca2-93a4a3b3a51e"
      },
      "execution_count": 39,
      "outputs": [
        {
          "output_type": "stream",
          "name": "stdout",
          "text": [
            "Quedan 10 segundos para escapar\n",
            "Quedan 9 segundos para escapar\n",
            "Quedan 8 segundos para escapar\n",
            "Quedan 7 segundos para escapar\n",
            "Quedan 6 segundos para escapar\n",
            "Quedan 5 segundos para escapar\n",
            "Quedan 4 segundos para escapar\n",
            "Quedan 3 segundos para escapar\n",
            "Quedan 2 segundos para escapar\n",
            "Quedan 1 segundos para escapar\n"
          ]
        }
      ]
    },
    {
      "cell_type": "markdown",
      "source": [
        "**Ejercicio 5: Cofres encantados (Break y Continue)**\n",
        "\n",
        "Simula 10 cofres cerrados, pero uno de ellos es una trampa explosiva (elige aleatoriamente una posición).\n",
        "El jugador abre cofres uno por uno:\n",
        "\n",
        "* Si encuentra la trampa, termina el juego (break).\n",
        "\n",
        "* Si encuentra cofres vacíos, continúa (continue).\n",
        "\n",
        "* Si abre todos sin explotar, gana."
      ],
      "metadata": {
        "id": "5dL6C-x1VsYf"
      }
    },
    {
      "cell_type": "code",
      "source": [
        "## INICIO DE CÓDIGO\n",
        "\n",
        "import random\n",
        "cofres = 10\n",
        "trampa = random.randint(1,cofres)\n",
        "\n",
        "for i in range(1,cofres+1):\n",
        "  if i == trampa:\n",
        "    print(\"Explotaste, perdiste\")\n",
        "    break\n",
        "  else:\n",
        "    print(f\"Cofre {i} vacío. Sigue jugando\")\n",
        "\n",
        "\n",
        "## FIN DE CÓDIGO"
      ],
      "metadata": {
        "id": "d0hcbl0_V2BI",
        "colab": {
          "base_uri": "https://localhost:8080/"
        },
        "outputId": "547f3389-fc46-4af4-c267-7f620917df26"
      },
      "execution_count": 41,
      "outputs": [
        {
          "output_type": "stream",
          "name": "stdout",
          "text": [
            "Cofre 1 vacío. Sigue jugando\n",
            "Cofre 2 vacío. Sigue jugando\n",
            "Cofre 3 vacío. Sigue jugando\n",
            "Cofre 4 vacío. Sigue jugando\n",
            "Cofre 5 vacío. Sigue jugando\n",
            "Explotaste, perdiste\n"
          ]
        }
      ]
    },
    {
      "cell_type": "markdown",
      "source": [
        "**Ejercicio 6: Pociones mágicas (Funciones básicas)**\n",
        "\n",
        "Crea una función usar_pocion(tipo) que permita al jugador elegir entre 'vida', 'fuerza' o 'velocidad', y retorne el efecto de la poción.\n",
        "Luego, pide al usuario que elija una poción y muestra el resultado llamando a la función."
      ],
      "metadata": {
        "id": "94yOz-rKV2gp"
      }
    },
    {
      "cell_type": "code",
      "source": [
        "## INICIO DE CÓDIGO\n",
        "\n",
        "## FIN DE CÓDIGO"
      ],
      "metadata": {
        "id": "NQKm0w5iV4Zz"
      },
      "execution_count": null,
      "outputs": []
    },
    {
      "cell_type": "markdown",
      "source": [
        "**Ejercicio 7: Calculadora de daño crítico (Funciones con parámetros)**\n",
        "\n",
        "Crea una función calcular_danio(base, critico) que reciba el daño base y un porcentaje de crítico, devolviendo el daño total.\n",
        "El usuario ingresará el daño base y el porcentaje crítico."
      ],
      "metadata": {
        "id": "Qdnbnm4nV44h"
      }
    },
    {
      "cell_type": "code",
      "source": [
        "## INICIO DE CÓDIGO\n",
        "\n",
        "## FIN DE CÓDIGO"
      ],
      "metadata": {
        "id": "leaLQJWrV8Tx"
      },
      "execution_count": null,
      "outputs": []
    },
    {
      "cell_type": "markdown",
      "source": [
        "**Ejercicio 8: El desafío del dragón (Condicionales + funciones + bucles)**\n",
        "\n",
        "Diseña una función enfrentar_dragon(vida, fuerza) que simule el combate:\n",
        "\n",
        "* El jugador ataca al dragón y el dragón contraataca restando vida.\n",
        "\n",
        "* Si la vida llega a 0, el jugador pierde.\n",
        "\n",
        "* Si el jugador realiza 3 ataques consecutivos sin morir, gana.\n",
        "Usa un bucle while interno para el combate."
      ],
      "metadata": {
        "id": "d4j1ckE2V9ag"
      }
    },
    {
      "cell_type": "code",
      "source": [
        "## INICIO DE CÓDIGO\n",
        "\n",
        "## FIN DE CÓDIGO"
      ],
      "metadata": {
        "id": "_CGyWwuaWByi"
      },
      "execution_count": null,
      "outputs": []
    },
    {
      "cell_type": "markdown",
      "source": [
        "**Ejercicio 9: El camino del héroe (Recursividad sencilla)**\n",
        "\n",
        "Crea una función recursiva que simule el camino de un héroe cruzando N obstáculos, mostrando mensajes como:\n",
        "\n",
        "\"Obstáculo 3: saltando...\"\n",
        "\n",
        "Termina cuando N llegue a 0."
      ],
      "metadata": {
        "id": "8X5Y08fQWCFU"
      }
    },
    {
      "cell_type": "code",
      "source": [
        "## INICIO DE CÓDIGO\n",
        "\n",
        "## FIN DE CÓDIGO"
      ],
      "metadata": {
        "id": "vVDjZHSVWJdQ"
      },
      "execution_count": null,
      "outputs": []
    },
    {
      "cell_type": "markdown",
      "source": [
        "**Ejercicio 10: Torre de los hechizos (Reto Integrador Final)**\n",
        "\n",
        "Crea un programa completo que combine:\n",
        "\n",
        "* Elección de personaje.\n",
        "\n",
        "* Simulación de un combate contra un enemigo con vida y defensa.\n",
        "\n",
        "* Uso de funciones para calcular el daño.\n",
        "\n",
        "* Bucles para turnos de combate.\n",
        "\n",
        "* Uso de una función recursiva que simule las rondas como niveles (nivel 1, 2, 3 hasta ganar).\n",
        "\n"
      ],
      "metadata": {
        "id": "Behbpl_8WJzR"
      }
    },
    {
      "cell_type": "code",
      "source": [
        "## INICIO DE CÓDIGO\n",
        "\n",
        "## FIN DE CÓDIGO"
      ],
      "metadata": {
        "id": "smtLq1SDWTJd"
      },
      "execution_count": null,
      "outputs": []
    },
    {
      "cell_type": "markdown",
      "source": [
        "---\n",
        "\n",
        "# Gracias por completar este laboratorio!\n",
        "\n",
        "---\n"
      ],
      "metadata": {
        "id": "EONqoa25Wlx3"
      }
    }
  ]
}