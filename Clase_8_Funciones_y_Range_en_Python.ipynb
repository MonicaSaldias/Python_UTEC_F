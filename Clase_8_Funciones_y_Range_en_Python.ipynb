{
  "nbformat": 4,
  "nbformat_minor": 0,
  "metadata": {
    "colab": {
      "provenance": [],
      "include_colab_link": true
    },
    "kernelspec": {
      "name": "python3",
      "display_name": "Python 3"
    },
    "language_info": {
      "name": "python"
    }
  },
  "cells": [
    {
      "cell_type": "markdown",
      "metadata": {
        "id": "view-in-github",
        "colab_type": "text"
      },
      "source": [
        "<a href=\"https://colab.research.google.com/github/MonicaSaldias/Python_UTEC_F/blob/main/Clase_8_Funciones_y_Range_en_Python.ipynb\" target=\"_parent\"><img src=\"https://colab.research.google.com/assets/colab-badge.svg\" alt=\"Open In Colab\"/></a>"
      ]
    },
    {
      "cell_type": "markdown",
      "source": [
        "# Funciones y Range en Python"
      ],
      "metadata": {
        "id": "X1el0Wz1JZqY"
      }
    },
    {
      "cell_type": "markdown",
      "source": [
        "**1. INTRODUCCIÓN**\n",
        "\n",
        "**Objetivo de la clase:**\n",
        "\n",
        "- Comprender qué son las funciones y cómo se usan en Python.\n",
        "\n",
        "- Comprender el uso de range() como herramienta de iteración.\n",
        "\n",
        "- Aplicar ambos conceptos en contextos de marketing, finanzas y ecommerce."
      ],
      "metadata": {
        "id": "ywsKcY8cJfJo"
      }
    },
    {
      "cell_type": "markdown",
      "source": [
        "**2. FUNCIONES EN PYTHON**\n",
        "\n",
        "**¿Qué es una función?**\n",
        "\n",
        "Una función es un bloque de código reutilizable que se puede ejecutar cuando sea necesario. Ayuda a organizar el código y evitar repeticiones."
      ],
      "metadata": {
        "id": "LQuCiXPzJojH"
      }
    },
    {
      "cell_type": "markdown",
      "source": [
        "**Estructura básica:**"
      ],
      "metadata": {
        "id": "7AK84BGCJszm"
      }
    },
    {
      "cell_type": "code",
      "execution_count": null,
      "metadata": {
        "id": "htagfLrqJPYN"
      },
      "outputs": [],
      "source": [
        "def nombre_de_funcion(parametros):\n",
        "    # bloque de código\n",
        "    return resultado"
      ]
    },
    {
      "cell_type": "markdown",
      "source": [
        "**Ejemplo 1**\n",
        "\n",
        "Diseñar una función que calcule el interés en monto que pagará un cliente al tomar un crédito, use como inputs (capital en soles, tasa de interés y duración del crédito en meses)"
      ],
      "metadata": {
        "id": "NW7S7xplKMGT"
      }
    },
    {
      "cell_type": "code",
      "source": [
        "def calcular_interes(capital, tasa, tiempo):\n",
        "    interes = capital * tasa * tiempo\n",
        "    return interes"
      ],
      "metadata": {
        "id": "Rr6v1Y70KmYN"
      },
      "execution_count": null,
      "outputs": []
    },
    {
      "cell_type": "code",
      "source": [
        "print(calcular_interes(1000, 0.05, 1))  # Resultado: 50.0"
      ],
      "metadata": {
        "id": "14HMlvihKrhq"
      },
      "execution_count": null,
      "outputs": []
    },
    {
      "cell_type": "markdown",
      "source": [
        "**Ejemplo 2**\n",
        "\n",
        "Diseñar una función que calcule el nuevo precio incluyendo el descuento de una campaña específica, use como inputs (precio en soles y descuento en porcentaje)"
      ],
      "metadata": {
        "id": "6xNqUFtzKzW9"
      }
    },
    {
      "cell_type": "code",
      "source": [
        "def calcular_precio_nuevo(precio_soles, descuento):\n",
        "    nuevo_precio = precio_soles * (1 - descuento / 100)\n",
        "    return nuevo_precio\n",
        "\n",
        "print(calcular_precio_nuevo(200, 10))"
      ],
      "metadata": {
        "id": "FhwFC3onU67j",
        "outputId": "1357c11a-e754-4dd1-9d19-93def3883d3d",
        "colab": {
          "base_uri": "https://localhost:8080/"
        }
      },
      "execution_count": 18,
      "outputs": [
        {
          "output_type": "stream",
          "name": "stdout",
          "text": [
            "180.0\n"
          ]
        }
      ]
    },
    {
      "cell_type": "markdown",
      "source": [
        "**Ejemplo 3**\n",
        "\n",
        "Diseñar una función que calcule el cpcc (Costo por Click) de un ad publicitario en internet, considerde como input (Tarifa en soles que se aplicará por click, número de clicks en el Ad)"
      ],
      "metadata": {
        "id": "zU28K4nWLe2N"
      }
    },
    {
      "cell_type": "code",
      "source": [
        "def calcular_cpcc(tarifa_soles, numero_clicks):\n",
        "    cpcc = tarifa_soles * numero_clicks\n",
        "    return cpcc\n",
        "\n",
        "print(calcular_cpcc(0.8, 300))"
      ],
      "metadata": {
        "id": "V4xPV-laXNvd",
        "outputId": "7cb8c61a-9bb9-41b8-dd11-cd29b49a6f1f",
        "colab": {
          "base_uri": "https://localhost:8080/"
        }
      },
      "execution_count": 19,
      "outputs": [
        {
          "output_type": "stream",
          "name": "stdout",
          "text": [
            "240.0\n"
          ]
        }
      ]
    },
    {
      "cell_type": "markdown",
      "source": [
        "**2. RANGE EN PYTHON**\n",
        "\n",
        "**¿Qué es range()?**\n",
        "\n",
        "range() genera una secuencia de números, comúnmente usada para repetir acciones un número definido de veces."
      ],
      "metadata": {
        "id": "isGog95fMNbO"
      }
    },
    {
      "cell_type": "markdown",
      "source": [
        "**Estructura básica:**"
      ],
      "metadata": {
        "id": "-oR_Etb6MXAD"
      }
    },
    {
      "cell_type": "code",
      "source": [
        "range(inicio, fin, paso)"
      ],
      "metadata": {
        "id": "d8XGHQQkLT0Q"
      },
      "execution_count": null,
      "outputs": []
    },
    {
      "cell_type": "markdown",
      "source": [
        "**Ejemplo 1**"
      ],
      "metadata": {
        "id": "bLDJfdmEMbfS"
      }
    },
    {
      "cell_type": "code",
      "source": [
        "for i in range(5):\n",
        "    print(i)  # Imprime del 0 al 4"
      ],
      "metadata": {
        "id": "mmyPk4RzMcNg"
      },
      "execution_count": null,
      "outputs": []
    },
    {
      "cell_type": "markdown",
      "source": [
        "**Ejemplo 2**\n",
        "\n",
        "Diseñe una función que presente el portafolio de productos que tiene un negocio"
      ],
      "metadata": {
        "id": "valEOhXnMh5T"
      }
    },
    {
      "cell_type": "code",
      "source": [
        "productos = [\"zapatos\", \"camisa\", \"pantalón\"]\n",
        "for i in range(len(productos)):\n",
        "    print(\"Producto:\", productos[i])"
      ],
      "metadata": {
        "id": "h8eQF6oeMiYZ"
      },
      "execution_count": null,
      "outputs": []
    },
    {
      "cell_type": "markdown",
      "source": [
        "**4. EJERCICIOS DE PRÁCTICA EN CLASE**\n",
        "\n",
        "**Funciones:**\n",
        "\n",
        "1. Crear una función que calcule el IGV (18%) de una venta.\n",
        "\n",
        "2. Crear una función que reciba una lista de ingresos mensuales y devuelva el promedio.\n",
        "\n",
        "3. Crear una función que indique si un cliente es \"Premium\" (si tiene más de 3 productos).\n",
        "\n",
        "**Range:**\n",
        "\n",
        "1. Usar range() para imprimir los primeros 10 múltiplos de 5.\n",
        "\n",
        "2. Usar range() para simular 6 meses de ahorro mensual y mostrar el total ahorrado."
      ],
      "metadata": {
        "id": "4xIvrZsOM41P"
      }
    },
    {
      "cell_type": "code",
      "source": [
        "def calcular_igv(venta):\n",
        "    return venta * 0.18\n",
        "print(calcular_igv(200))\n",
        "\n",
        "\n",
        "ingresomensual = [2000, 1700, 1000, 3500]\n",
        "def calcular_promingresos(ingresos):\n",
        "    return sum(ingresomensual) / len(ingresos)\n",
        "print(calcular_promingresos(ingresomensual))\n",
        "\n"
      ],
      "metadata": {
        "id": "mg2o7mHBcuAb",
        "outputId": "bd88257b-062f-441b-c192-8766d9df76e9",
        "colab": {
          "base_uri": "https://localhost:8080/"
        }
      },
      "execution_count": 25,
      "outputs": [
        {
          "output_type": "stream",
          "name": "stdout",
          "text": [
            "18.0\n",
            "2025.0\n"
          ]
        }
      ]
    },
    {
      "cell_type": "markdown",
      "source": [
        "**5. MINI PROYECTO FINAL**\n",
        "\n",
        "**Descripción:**\n",
        "\n",
        "Simular un sistema básico para evaluar el rendimiento financiero de clientes bancarios.\n",
        "\n",
        "**Requisitos:**\n",
        "\n",
        "- Lista de clientes (IDs)\n",
        "\n",
        "- Diccionario con ingresos mensuales\n",
        "\n",
        "- Funciones para:\n",
        "\n",
        "- Calcular ingreso anual\n",
        "\n",
        "- Clasificar al cliente (alto, medio, bajo ingreso)\n",
        "\n",
        "- Uso de range para simular 12 meses\n",
        "\n",
        "- Uso de if, else, for, while"
      ],
      "metadata": {
        "id": "qZKELUZANEtx"
      }
    },
    {
      "cell_type": "code",
      "source": [],
      "metadata": {
        "id": "ZnzK9eFCNW9F"
      },
      "execution_count": null,
      "outputs": []
    }
  ]
}