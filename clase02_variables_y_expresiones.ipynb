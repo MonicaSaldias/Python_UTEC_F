{
  "nbformat": 4,
  "nbformat_minor": 0,
  "metadata": {
    "colab": {
      "provenance": [],
      "include_colab_link": true
    },
    "kernelspec": {
      "name": "python3",
      "display_name": "Python 3"
    },
    "language_info": {
      "name": "python"
    }
  },
  "cells": [
    {
      "cell_type": "markdown",
      "metadata": {
        "id": "view-in-github",
        "colab_type": "text"
      },
      "source": [
        "<a href=\"https://colab.research.google.com/github/MonicaSaldias/Python_UTEC_F/blob/main/clase02_variables_y_expresiones.ipynb\" target=\"_parent\"><img src=\"https://colab.research.google.com/assets/colab-badge.svg\" alt=\"Open In Colab\"/></a>"
      ]
    },
    {
      "cell_type": "markdown",
      "source": [
        "<img src=\"https://posgrado.utec.edu.pe/sites/default/files/2023-08/Testimonial-home-2.jpg\" alt=\"HTML5 Icon\" width=\"900\" height=\"250\" >\n"
      ],
      "metadata": {
        "id": "cqadFmlrgAXp"
      }
    },
    {
      "cell_type": "markdown",
      "source": [
        "# **Ejercicios - Variables y Expresiones**"
      ],
      "metadata": {
        "id": "tW1-ULBmb0Cm"
      }
    },
    {
      "cell_type": "markdown",
      "source": [
        "**Ejercicio 1: Calculadora de ahorro semanal**\n",
        "\n",
        "Pide al usuario cuánto dinero ahorra cada día de lunes a domingo. Al final, muestra cuánto ahorró en total esa semana y cuánto tendría en un mes si repite el mismo patrón cada semana.\n",
        "\n",
        "- Pista: Usar 7 variables (ahorro_lunes, ahorro_martes, …), input(), float(), +, *."
      ],
      "metadata": {
        "id": "9igzfvIKqNGr"
      }
    },
    {
      "cell_type": "code",
      "source": [
        "## INICIO DE CÓDIGO\n",
        "\n",
        "ahorro_lunes = float(input(\"Ingrese el monto ahorrado en Lunes: \"))\n",
        "ahorro_martes = float(input(\"Ingrese el monto ahorrado en martes: \"))\n",
        "ahorro_miercoles = float(input(\"Ingrese el monto ahorrado en miercoles: \"))\n",
        "ahorro_jueves = float(input(\"Ingrese el monto ahorrado en jueves: \"))\n",
        "ahorro_viernes = float(input(\"Ingrese el monto ahorrado en viernes: \"))\n",
        "ahorro_sabado = float(input(\"Ingrese el monto ahorrado en sabado: \"))\n",
        "ahorro_domingo = float(input(\"Ingrese el monto ahorrado en domingo: \"))\n",
        "\n",
        "ahorro_total = ahorro_lunes + ahorro_martes + ahorro_miercoles + ahorro_jueves + ahorro_viernes + ahorro_sabado + ahorro_domingo\n",
        "\n",
        "print (\"Semanalmente ahorras: \", ahorro_total)\n",
        "\n",
        "ahorro_mensual = ahorro_total * 4\n",
        "\n",
        "print (\"Mensualmente ahorras: \", ahorro_mensual)\n",
        "\n",
        "## FIN DE CÓDIGO"
      ],
      "metadata": {
        "id": "BX-O1-4wqWF9",
        "colab": {
          "base_uri": "https://localhost:8080/"
        },
        "outputId": "2c9602d7-4edf-4915-fcb6-b06fd240bddb"
      },
      "execution_count": null,
      "outputs": [
        {
          "output_type": "stream",
          "name": "stdout",
          "text": [
            "Ingrese el monto ahorrado en Lunes: 10\n",
            "Ingrese el monto ahorrado en martes: 20\n",
            "Ingrese el monto ahorrado en miercoles: 40\n",
            "Ingrese el monto ahorrado en jueves: 30\n",
            "Ingrese el monto ahorrado en viernes: 50\n",
            "Ingrese el monto ahorrado en sabado: 5\n",
            "Ingrese el monto ahorrado en domingo: 5\n",
            "Semanalmente ahorras:  160.0\n",
            "Mensualmente ahorras:  640.0\n"
          ]
        }
      ]
    },
    {
      "cell_type": "code",
      "source": [],
      "metadata": {
        "id": "jRUSmNBLHlpT"
      },
      "execution_count": null,
      "outputs": []
    },
    {
      "cell_type": "markdown",
      "source": [
        "**Ejercicio 2: Conversor de segundos**\n",
        "\n",
        "Solicita una cantidad total de segundos y muestra cuántos minutos y segundos representa.\n",
        "\n",
        "Ejemplo: 130 segundos → 2 minutos y 10 segundos\n",
        "* Pista: Usar // y %\n"
      ],
      "metadata": {
        "id": "oLaw6UggqV3E"
      }
    },
    {
      "cell_type": "code",
      "source": [
        "## INICIO DE CÓDIGO\n",
        "segundos = int(input(\"Ingrese la cantidad de segundos: \"))\n",
        "print(segundos, \"equivalen a\", segundos // 60, \"minutos y\", segundos %  60, \"segundos\")\n",
        "\n",
        "minutos = segundos // 60\n",
        "segundos_restantes = segundos % 60\n",
        "\n",
        "## FIN DE CÓDIGO"
      ],
      "metadata": {
        "id": "bAuxBROrqaWb",
        "colab": {
          "base_uri": "https://localhost:8080/"
        },
        "outputId": "00f5352f-84d4-4be2-d360-7146c40db4f1"
      },
      "execution_count": null,
      "outputs": [
        {
          "output_type": "stream",
          "name": "stdout",
          "text": [
            "Ingrese la cantidad de segundos: 100\n",
            "100 equivalen a 1 minutos y 40 segundos\n"
          ]
        }
      ]
    },
    {
      "cell_type": "markdown",
      "source": [
        "**Ejercicio 3: Puntuación de juego**\n",
        "\n",
        "Un videojuego otorga:\n",
        "\n",
        "* 10 puntos por cada estrella recolectada,\n",
        "* 50 puntos por cada gema recolectada, y\n",
        "* 1 punto por cada segundo que el jugador se mantuvo vivo.\n",
        "\n",
        "Pide al usuario las tres cantidades y muestra su puntaje total.\n",
        "\n",
        "* Pista: total = estrellas*10 + gemas*50 + tiempo"
      ],
      "metadata": {
        "id": "dK4EIGoKrW2B"
      }
    },
    {
      "cell_type": "code",
      "source": [
        "## INICIO DE CÓDIGO\n",
        "estrellas = int(input(\"Ingrese la cantidad de estrellas recolectadas: \"))\n",
        "gema = int(input(\"Ingrese la cantidad de gemas recolectadas: \"))\n",
        "tiempo = int(input(\"Ingrese el tiempo que el jugador se mantuvo vivo: \"))\n",
        "total = estrellas*10 + gema*50 + tiempo\n",
        "print(\"el puntaje total del jugador es:\", total)\n",
        "## FIN DE CÓDIGO"
      ],
      "metadata": {
        "id": "jkBQHQF1rlUY",
        "colab": {
          "base_uri": "https://localhost:8080/"
        },
        "outputId": "584a3e97-fe77-4b14-968d-16decfe2eda3"
      },
      "execution_count": null,
      "outputs": [
        {
          "output_type": "stream",
          "name": "stdout",
          "text": [
            "Ingrese la cantidad de estrellas recolectadas: 30\n",
            "Ingrese la cantidad de gemas recolectadas: 60\n",
            "Ingrese el tiempo que el jugador se mantuvo vivo: 30000\n",
            "el puntaje total del jugador es: 33300\n"
          ]
        }
      ]
    },
    {
      "cell_type": "markdown",
      "source": [
        "**Ejercicio 4: Conversor de monedas con tasa personalizada**\n",
        "\n",
        "Solicita al usuario:\n",
        "\n",
        "* El monto en soles\n",
        "* La tasa de cambio a dólares\n",
        "\n",
        "Muestra el equivalente en dólares, redondeado a 2 decimales.\n",
        "\n",
        "* Pista: Usar float(), *, round(valor, 2)"
      ],
      "metadata": {
        "id": "wW9Edl_8rlt1"
      }
    },
    {
      "cell_type": "code",
      "source": [
        "## INICIO DE CÓDIGO\n",
        "monto_en_soles = float(input(\"Ingrese el monto en soles: \"))\n",
        "tasa_de_cambio = float(input(\"Ingrese la tasa de cambio a dólares: \"))\n",
        "monto_en_dolares = round((monto_en_soles / tasa_de_cambio), 2)\n",
        "print(\"monto equivalente en dolares es:\", monto_en_dolares)\n",
        "\n",
        "## FIN DE CÓDIGO"
      ],
      "metadata": {
        "id": "fTCsCohHrmQW",
        "colab": {
          "base_uri": "https://localhost:8080/"
        },
        "outputId": "0f22001f-4456-42f0-9f6a-9098474606b3"
      },
      "execution_count": null,
      "outputs": [
        {
          "output_type": "stream",
          "name": "stdout",
          "text": [
            "Ingrese el monto en soles: 4076\n",
            "Ingrese la tasa de cambio a dólares: 3.66\n",
            "monto equivalente en dolares es: 1113.66\n"
          ]
        }
      ]
    },
    {
      "cell_type": "markdown",
      "source": [
        "**Ejercicio 5: Costo compartido de viaje**\n",
        "\n",
        "Tres amigos hacen un viaje y pagan distintos montos:\n",
        "\n",
        "* Ana pagó gasolina,\n",
        "* Luis pagó peajes,\n",
        "* Carla pagó comida.\n",
        "\n",
        "Pide los tres montos, calcula el total y cuánto debería aportar cada uno para que paguen igual.\n",
        "\n",
        "* Pista: Calcular el total y luego dividirlo entre 3"
      ],
      "metadata": {
        "id": "JYUyJAidrmnT"
      }
    },
    {
      "cell_type": "code",
      "source": [
        "## INICIO DE CÓDIGO\n",
        "\n",
        "Ana = float(input(\"monto de gasolina: \"))\n",
        "Luis = float(input(\"monto de peajes: \"))\n",
        "Carla = float(input(\"monto comida: \"))\n",
        "\n",
        "monto_total = float(Ana + Luis + Carla)\n",
        "por_persona = monto_total / 3\n",
        "\n",
        "print(\"cada uno deberia pagar:\", por_persona)\n",
        "print(\"el monto total es: \", monto_total)\n",
        "\n",
        "## FIN DE CÓDIGO"
      ],
      "metadata": {
        "id": "SGjH-m_mrom9",
        "colab": {
          "base_uri": "https://localhost:8080/"
        },
        "outputId": "122dfb3e-ac5d-4c10-ec10-ccc9cf75547c"
      },
      "execution_count": null,
      "outputs": [
        {
          "output_type": "stream",
          "name": "stdout",
          "text": [
            "monto de gasolina: 500\n",
            "monto de peajes: 40\n",
            "monto comida: 300\n",
            "cada uno deberia pagar: 280.0\n",
            "el monto total es:  840.0\n"
          ]
        }
      ]
    },
    {
      "cell_type": "markdown",
      "source": [
        "**Ejercicio 6: Tiempo total de estudio**\n",
        "\n",
        "Solicita al usuario cuántas horas estudió en 4 materias distintas.\n",
        "\n",
        "Muestra el total de horas de estudio en la semana y el promedio diario (considerando 7 días).\n"
      ],
      "metadata": {
        "id": "skhBiCaCro5l"
      }
    },
    {
      "cell_type": "code",
      "source": [
        "## INICIO DE CÓDIGO\n",
        "Matematica = float(input(\"Ingrese las horas en Matematica: \"))\n",
        "Aleman = float(input(\"Ingrese las horas en Aleman: \"))\n",
        "Fisica = float(input(\"Ingrese las horas en Fisica: \"))\n",
        "Lenguaje = float(input(\"Ingrese las horas en Lenguaje: \"))\n",
        "\n",
        "total_monto = Matematica + Aleman + Fisica + Lenguaje\n",
        "promedio_diario = total_monto / 7\n",
        "\n",
        "print(\"Total de horas en la semana es:\", total_monto)\n",
        "print(\"Prom diario de estudio es:\", round(promedio_diario), 2)\n",
        "\n",
        "## FIN DE CÓDIGO"
      ],
      "metadata": {
        "id": "HnFuV1RPrqXQ",
        "colab": {
          "base_uri": "https://localhost:8080/"
        },
        "outputId": "8ce44779-da1e-4065-db3b-4916f337fed1"
      },
      "execution_count": null,
      "outputs": [
        {
          "output_type": "stream",
          "name": "stdout",
          "text": [
            "Ingrese las horas en Matematica: 23\n",
            "Ingrese las horas en Aleman: 29\n",
            "Ingrese las horas en Fisica: 13\n",
            "Ingrese las horas en Lenguaje: 10\n",
            "Total de horas en la semana es: 75.0\n",
            "Prom diario de estudio es: 11 2\n"
          ]
        }
      ]
    },
    {
      "cell_type": "markdown",
      "source": [
        "**Ejercicio 7: Nombre codificado (nivel string)**\n",
        "\n",
        "Pide al usuario su nombre completo y muestra:\n",
        "\n",
        "* La cantidad de caracteres (con len())\n",
        "* Su nombre todo en mayúsculas (.upper())\n",
        "* Su nombre todo en minúsculas (.lower())\n"
      ],
      "metadata": {
        "id": "rNjtOXKWrqs5"
      }
    },
    {
      "cell_type": "code",
      "source": [
        "## INICIO DE CÓDIGO\n",
        "\n",
        "nombre = input(\"Ingrese su nombre completo: \")\n",
        "print(\"La cantidad de caracteres es:\", len(nombre))\n",
        "print(\"Su nombre todo en mayúsculas es:\", nombre.upper())\n",
        "print(\"Su nombre todo en minúsculas es:\", nombre.lower())\n",
        "\n",
        "## FIN DE CÓDIGO"
      ],
      "metadata": {
        "id": "GnGm74GXrsL0",
        "colab": {
          "base_uri": "https://localhost:8080/"
        },
        "outputId": "55f95bce-128e-4b7e-d2b8-0d9d40a07ca4"
      },
      "execution_count": null,
      "outputs": [
        {
          "output_type": "stream",
          "name": "stdout",
          "text": [
            "Ingrese su nombre completo: MoniCA\n",
            "La cantidad de caracteres es: 6\n",
            "Su nombre todo en mayúsculas es: MONICA\n",
            "Su nombre todo en minúsculas es: monica\n"
          ]
        }
      ]
    },
    {
      "cell_type": "markdown",
      "source": [
        "**Ejercicio 8: Frase repetida**\n",
        "\n",
        "Pide una frase y un número n, y muestra la frase repetida n veces, cada una en una línea.\n",
        "\n",
        "* Pista: print(frase * n)  # y/o con '\\n'"
      ],
      "metadata": {
        "id": "lrhPyjmWrse2"
      }
    },
    {
      "cell_type": "code",
      "source": [
        "## INICIO DE CÓDIGO\n",
        "frase = input(\"Ingrese una frase: \")\n",
        "n = int(input(\"Ingrese un número n: \"))\n",
        "print((frase +'\\n') * n)\n",
        "\n",
        "## FIN DE CÓDIGO"
      ],
      "metadata": {
        "id": "Vzef3t_Lru0p",
        "colab": {
          "base_uri": "https://localhost:8080/"
        },
        "outputId": "4cc31cd3-411f-4dca-97b9-452a7be4bbb7"
      },
      "execution_count": null,
      "outputs": [
        {
          "output_type": "stream",
          "name": "stdout",
          "text": [
            "Ingrese una frase: no se cual es la tarea real\n",
            "Ingrese un número n: 5\n",
            "no se cual es la tarea real\n",
            "no se cual es la tarea real\n",
            "no se cual es la tarea real\n",
            "no se cual es la tarea real\n",
            "no se cual es la tarea real\n",
            "\n"
          ]
        }
      ]
    },
    {
      "cell_type": "markdown",
      "source": [
        "**Ejercicio 9: División de cuentas**\n",
        "\n",
        "Un grupo de amigos pide una cuenta por S/ 250.\n",
        "Pide al usuario cuántas personas están en el grupo y muestra cuánto debe pagar cada uno.\n",
        "\n",
        "Asegúrate de redondear el resultado a 2 decimales.\n",
        "\n",
        "* Pista: Usa la funcion round()"
      ],
      "metadata": {
        "id": "5NpbbGR_rvNH"
      }
    },
    {
      "cell_type": "code",
      "source": [
        "## INICIO DE CÓDIGO\n",
        "cant_personas = int(input(\"cant de personas: \"))\n",
        "cuenta_total = 250\n",
        "por_persona = round((cuenta_total / cant_personas), 2)\n",
        "print(\"Debe pagar cada uno:\", por_persona)\n",
        "## FIN DE CÓDIGO"
      ],
      "metadata": {
        "id": "uMxuVCUVrvj6",
        "colab": {
          "base_uri": "https://localhost:8080/"
        },
        "outputId": "ddd1c685-d7fb-4ccb-8e4a-a4271a77f323"
      },
      "execution_count": null,
      "outputs": [
        {
          "output_type": "stream",
          "name": "stdout",
          "text": [
            "cant de personas: 7\n",
            "Debe pagar cada uno: 35.71\n"
          ]
        }
      ]
    },
    {
      "cell_type": "markdown",
      "source": [
        "**Ejercicio 10: Calendario de clases**\n",
        "\n",
        "Pide cuántas horas se estudia en promedio por día, y cuántos días tiene el mes.\n",
        "\n",
        "Calcula cuántas horas de estudio habrá ese mes."
      ],
      "metadata": {
        "id": "p3PYp0l4pxuI"
      }
    },
    {
      "cell_type": "code",
      "source": [
        "## INICIO DE CÓDIGO\n",
        "\n",
        "horas_dia = float(input(\"horas estudiadas por dia: \"))\n",
        "dias_mes = 30\n",
        "horas_mes = horas_dia * dias_mes\n",
        "print(\"Cant horas de estudio en el mes: \", horas_mes)\n",
        "\n",
        "## FIN DE CÓDIGO"
      ],
      "metadata": {
        "id": "y1bXFffhrxk2",
        "colab": {
          "base_uri": "https://localhost:8080/"
        },
        "outputId": "d0af99cb-da5f-47b3-e676-04076bd93c19"
      },
      "execution_count": null,
      "outputs": [
        {
          "output_type": "stream",
          "name": "stdout",
          "text": [
            "horas estudiadas por dia: 8\n",
            "Cant horas de estudio en el mes:  240.0\n"
          ]
        }
      ]
    },
    {
      "cell_type": "markdown",
      "source": [
        "---\n",
        "\n",
        "# Gracias por completar este laboratorio!\n",
        "\n",
        "---\n"
      ],
      "metadata": {
        "id": "8_ZocYoOrx3Z"
      }
    }
  ]
}